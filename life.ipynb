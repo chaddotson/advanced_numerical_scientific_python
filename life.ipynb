{
 "cells": [
  {
   "cell_type": "code",
   "execution_count": 57,
   "metadata": {
    "collapsed": false
   },
   "outputs": [],
   "source": [
    "import matplotlib.pyplot as mpl\n",
    "import numpy as np\n",
    "\n",
    "generations = 25\n",
    "\n",
    "colony = np.random.randint(0, 2, (32, 32))\n",
    "\n",
    "def count_alive_neighbors(colony, x, y):\n",
    "    count = np.sum(np.sum(colony[x-1:x+2, y-1:y+2]))\n",
    "    if colony[x,y]:\n",
    "        count-=1\n",
    "    return count\n",
    "\n",
    "img = mpl.imshow(colony)\n",
    "mpl.savefig(\"gen_{0}.jpg\".format(0))\n",
    "\n",
    "for gen in range(generations):\n",
    "    for y in range(32):\n",
    "        for x in range(32):\n",
    "            alive_neighbors = count_alive_neighbors(colony, x, y)\n",
    "            \n",
    "            if colony[x, y]:\n",
    "                if alive_neighbors == 3 or alive_neighbors == 4:\n",
    "                    pass\n",
    "                else:\n",
    "                    colony[x, y] = 0\n",
    "            elif alive_neighbors == 3:\n",
    "                    colony[x, y] = 1\n",
    "                \n",
    "    img = mpl.imshow(colony)\n",
    "    mpl.savefig(\"gen_{0}.jpg\".format(gen+1))\n",
    "        \n",
    "            \n",
    "            \n",
    "        \n",
    "\n",
    "# img = mpl.imshow(colony, c)\n",
    "# cb = mpl.colorbar(img)\n",
    "# mpl.show()\n"
   ]
  },
  {
   "cell_type": "code",
   "execution_count": null,
   "metadata": {
    "collapsed": false
   },
   "outputs": [],
   "source": []
  },
  {
   "cell_type": "code",
   "execution_count": null,
   "metadata": {
    "collapsed": true
   },
   "outputs": [],
   "source": []
  }
 ],
 "metadata": {
  "kernelspec": {
   "display_name": "Python 3",
   "language": "python",
   "name": "python3"
  },
  "language_info": {
   "codemirror_mode": {
    "name": "ipython",
    "version": 3
   },
   "file_extension": ".py",
   "mimetype": "text/x-python",
   "name": "python",
   "nbconvert_exporter": "python",
   "pygments_lexer": "ipython3",
   "version": "3.6.0"
  }
 },
 "nbformat": 4,
 "nbformat_minor": 2
}
